{
 "cells": [
  {
   "cell_type": "markdown",
   "id": "37966c75",
   "metadata": {},
   "source": [
    "# Web Scraping Linkedin Job Listings with Python"
   ]
  },
  {
   "cell_type": "markdown",
   "id": "c8f6fea0",
   "metadata": {},
   "source": [
    "Reference : https://maoviola.medium.com/a-complete-guide-to-web-scraping-linkedin-job-postings-ad290fcaa97f\n",
    "\n",
    "Here I reproduced Mao Viola's solution on web scraping Linkedin job Posting, with some adjustment and fixes."
   ]
  },
  {
   "cell_type": "markdown",
   "id": "afdf14e8",
   "metadata": {},
   "source": [
    "Pre-requisite:\n",
    "* Have python > 3.0 installed : https://www.python.org/downloads/windows/\n",
    "* Ensure pip or anaconda is installed \n",
    "* Have jupyter notebook installed : https://jupyter.org/install (if using pip) or https://anaconda.org/anaconda/jupyter (if using anaconda)\n",
    "* Have Selenium WebDriver installed : https://pypi.org/project/selenium/ (if using pip) or https://anaconda.org/conda-forge/selenium (if using anaconda)\n",
    "* Have Pandas installed\n",
    "* Download chrome webdriver : https://chromedriver.chromium.org/downloads (make sure it supports your Chrome version!)"
   ]
  },
  {
   "cell_type": "code",
   "execution_count": 4,
   "id": "70a88351",
   "metadata": {},
   "outputs": [],
   "source": [
    "from selenium import webdriver\n",
    "from selenium.webdriver.common.by import By\n",
    "from selenium.webdriver.support.ui import WebDriverWait\n",
    "from selenium.webdriver.common.keys import Keys\n",
    "from selenium.webdriver.support import expected_conditions as EC\n",
    "from datetime import datetime\n",
    "import time\n",
    "import pandas as pd"
   ]
  },
  {
   "cell_type": "markdown",
   "id": "d9d0f044",
   "metadata": {},
   "source": [
    "## 1. Opening browser & scroll the job listing"
   ]
  },
  {
   "cell_type": "code",
   "execution_count": 5,
   "id": "81b4bf5f",
   "metadata": {},
   "outputs": [
    {
     "name": "stderr",
     "output_type": "stream",
     "text": [
      "C:\\Users\\ACER\\AppData\\Local\\Temp\\ipykernel_1136\\3612665267.py:3: DeprecationWarning: executable_path has been deprecated, please pass in a Service object\n",
      "  driver = webdriver.Chrome(PATH)\n"
     ]
    },
    {
     "name": "stdout",
     "output_type": "stream",
     "text": [
      "13\n",
      "load more click\n",
      "load more click\n",
      "load more click\n",
      "load more click\n",
      "load more click\n",
      "load more click\n",
      "load more click\n",
      "load more click\n",
      "total jobs :\n",
      "374\n"
     ]
    }
   ],
   "source": [
    "# Define browser and action setup\n",
    "PATH = \"C:\\Program Files (x86)\\chromedriver.exe\"\n",
    "driver = webdriver.Chrome(PATH)\n",
    "\n",
    "# Define URL\n",
    "linkedin_url = \"https://www.linkedin.com/jobs/search/?keywords=data%20scientist&location=Indonesia\"\n",
    "\n",
    "# Action Steps\n",
    "driver.maximize_window()\n",
    "driver.get(linkedin_url) # Open web page\n",
    "\n",
    "# Determine how many jobs we want to scrape, and calculate how many time we need to scroll down\n",
    "no_of_jobs = 300\n",
    "# int(driver.find_element_by_css_selector(\"h1>span\").get_attribute(\"innerText\"))\n",
    "n_scroll = int(no_of_jobs/25)+1\n",
    "print(n_scroll)\n",
    "i = 1\n",
    "driver.execute_script(\"return document.body.scrollHeight\") #scroll to top\n",
    "while i <= n_scroll:\n",
    "    driver.execute_script(\"return document.body.scrollHeight\")\n",
    "    time.sleep(2) # wair for 2 seconds\n",
    "    driver.execute_script(\"window.scrollTo(0, document.body.scrollHeight);\") #scroll to the bottom of page\n",
    "    time.sleep(3)\n",
    "    i = i + 1\n",
    "    try:\n",
    "        button = driver.find_element(By.XPATH,\"/html/body/div[1]/div/main/section[2]/button\")\n",
    "        #time.sleep(2)\n",
    "        button.click()\n",
    "        time.sleep(1)\n",
    "        print(\"load more click\")\n",
    "    except:\n",
    "        driver.execute_script(\"return document.body.scrollHeight\")\n",
    "        time.sleep(3)\n",
    "\n",
    "print (\"total jobs :\")\n",
    "jobs = driver.find_element(By.CLASS_NAME,\"jobs-search__results-list\").find_elements(By.TAG_NAME,'li') # return a list\n",
    "print(len(jobs))\n"
   ]
  },
  {
   "cell_type": "markdown",
   "id": "c4ba1252",
   "metadata": {},
   "source": [
    "## 2. Get Main Attributes of each Job Listing"
   ]
  },
  {
   "cell_type": "markdown",
   "id": "50e3587a",
   "metadata": {},
   "source": [
    "Important notes : \n",
    "* The HTML and CSS element path needs to be checked regularly, because it's possible that it will change in the future\n",
    "* You can also group all the possibly changing web elements in one place\n",
    "* This is not the most efficient code ever. It works but definitely needs improvement, and feel free to do so on your own."
   ]
  },
  {
   "cell_type": "code",
   "execution_count": 6,
   "id": "b76a4da9",
   "metadata": {},
   "outputs": [
    {
     "ename": "StaleElementReferenceException",
     "evalue": "Message: stale element reference: element is not attached to the page document\n  (Session info: chrome=108.0.5359.125)\nStacktrace:\nBacktrace:\n\t(No symbol) [0x00F5F243]\n\t(No symbol) [0x00EE7FD1]\n\t(No symbol) [0x00DDD04D]\n\t(No symbol) [0x00DDFD34]\n\t(No symbol) [0x00DDFBE5]\n\t(No symbol) [0x00DE0565]\n\t(No symbol) [0x00E3D47C]\n\t(No symbol) [0x00E2858C]\n\t(No symbol) [0x00E3C9EB]\n\t(No symbol) [0x00E28386]\n\t(No symbol) [0x00E0163C]\n\t(No symbol) [0x00E0269D]\n\tGetHandleVerifier [0x011F9A22+2655074]\n\tGetHandleVerifier [0x011ECA24+2601828]\n\tGetHandleVerifier [0x01008C0A+619850]\n\tGetHandleVerifier [0x01007830+614768]\n\t(No symbol) [0x00EF05FC]\n\t(No symbol) [0x00EF5968]\n\t(No symbol) [0x00EF5A55]\n\t(No symbol) [0x00F0051B]\n\tBaseThreadInitThunk [0x750F00F9+25]\n\tRtlGetAppContainerNamedObjectPath [0x77237BBE+286]\n\tRtlGetAppContainerNamedObjectPath [0x77237B8E+238]\n",
     "output_type": "error",
     "traceback": [
      "\u001b[1;31m---------------------------------------------------------------------------\u001b[0m",
      "\u001b[1;31mStaleElementReferenceException\u001b[0m            Traceback (most recent call last)",
      "Input \u001b[1;32mIn [6]\u001b[0m, in \u001b[0;36m<cell line: 7>\u001b[1;34m()\u001b[0m\n\u001b[0;32m      6\u001b[0m job_link \u001b[38;5;241m=\u001b[39m []\n\u001b[0;32m      7\u001b[0m \u001b[38;5;28;01mfor\u001b[39;00m job \u001b[38;5;129;01min\u001b[39;00m jobs:\n\u001b[1;32m----> 8\u001b[0m     job_id0 \u001b[38;5;241m=\u001b[39m \u001b[43mjob\u001b[49m\u001b[38;5;241;43m.\u001b[39;49m\u001b[43mget_attribute\u001b[49m\u001b[43m(\u001b[49m\u001b[38;5;124;43m'\u001b[39;49m\u001b[38;5;124;43mdata-entity-urn\u001b[39;49m\u001b[38;5;124;43m'\u001b[39;49m\u001b[43m)\u001b[49m\n\u001b[0;32m      9\u001b[0m     job_id\u001b[38;5;241m.\u001b[39mappend(job_id0)\n\u001b[0;32m     11\u001b[0m     job_title0 \u001b[38;5;241m=\u001b[39m job\u001b[38;5;241m.\u001b[39mfind_element(By\u001b[38;5;241m.\u001b[39mCSS_SELECTOR,\u001b[38;5;124m'\u001b[39m\u001b[38;5;124mh3\u001b[39m\u001b[38;5;124m'\u001b[39m)\u001b[38;5;241m.\u001b[39mget_attribute(\u001b[38;5;124m'\u001b[39m\u001b[38;5;124minnerText\u001b[39m\u001b[38;5;124m'\u001b[39m)\n",
      "File \u001b[1;32m~\\anaconda3\\lib\\site-packages\\selenium\\webdriver\\remote\\webelement.py:172\u001b[0m, in \u001b[0;36mWebElement.get_attribute\u001b[1;34m(self, name)\u001b[0m\n\u001b[0;32m    170\u001b[0m \u001b[38;5;28;01mif\u001b[39;00m getAttribute_js \u001b[38;5;129;01mis\u001b[39;00m \u001b[38;5;28;01mNone\u001b[39;00m:\n\u001b[0;32m    171\u001b[0m     _load_js()\n\u001b[1;32m--> 172\u001b[0m attribute_value \u001b[38;5;241m=\u001b[39m \u001b[38;5;28;43mself\u001b[39;49m\u001b[38;5;241;43m.\u001b[39;49m\u001b[43mparent\u001b[49m\u001b[38;5;241;43m.\u001b[39;49m\u001b[43mexecute_script\u001b[49m\u001b[43m(\u001b[49m\n\u001b[0;32m    173\u001b[0m \u001b[43m    \u001b[49m\u001b[38;5;124;43m\"\u001b[39;49m\u001b[38;5;124;43mreturn (\u001b[39;49m\u001b[38;5;132;43;01m%s\u001b[39;49;00m\u001b[38;5;124;43m).apply(null, arguments);\u001b[39;49m\u001b[38;5;124;43m\"\u001b[39;49m\u001b[43m \u001b[49m\u001b[38;5;241;43m%\u001b[39;49m\u001b[43m \u001b[49m\u001b[43mgetAttribute_js\u001b[49m\u001b[43m,\u001b[49m\n\u001b[0;32m    174\u001b[0m \u001b[43m    \u001b[49m\u001b[38;5;28;43mself\u001b[39;49m\u001b[43m,\u001b[49m\u001b[43m \u001b[49m\u001b[43mname\u001b[49m\u001b[43m)\u001b[49m\n\u001b[0;32m    175\u001b[0m \u001b[38;5;28;01mreturn\u001b[39;00m attribute_value\n",
      "File \u001b[1;32m~\\anaconda3\\lib\\site-packages\\selenium\\webdriver\\remote\\webdriver.py:492\u001b[0m, in \u001b[0;36mWebDriver.execute_script\u001b[1;34m(self, script, *args)\u001b[0m\n\u001b[0;32m    489\u001b[0m converted_args \u001b[38;5;241m=\u001b[39m \u001b[38;5;28mlist\u001b[39m(args)\n\u001b[0;32m    490\u001b[0m command \u001b[38;5;241m=\u001b[39m Command\u001b[38;5;241m.\u001b[39mW3C_EXECUTE_SCRIPT\n\u001b[1;32m--> 492\u001b[0m \u001b[38;5;28;01mreturn\u001b[39;00m \u001b[38;5;28;43mself\u001b[39;49m\u001b[38;5;241;43m.\u001b[39;49m\u001b[43mexecute\u001b[49m\u001b[43m(\u001b[49m\u001b[43mcommand\u001b[49m\u001b[43m,\u001b[49m\u001b[43m \u001b[49m\u001b[43m{\u001b[49m\n\u001b[0;32m    493\u001b[0m \u001b[43m    \u001b[49m\u001b[38;5;124;43m'\u001b[39;49m\u001b[38;5;124;43mscript\u001b[39;49m\u001b[38;5;124;43m'\u001b[39;49m\u001b[43m:\u001b[49m\u001b[43m \u001b[49m\u001b[43mscript\u001b[49m\u001b[43m,\u001b[49m\n\u001b[0;32m    494\u001b[0m \u001b[43m    \u001b[49m\u001b[38;5;124;43m'\u001b[39;49m\u001b[38;5;124;43margs\u001b[39;49m\u001b[38;5;124;43m'\u001b[39;49m\u001b[43m:\u001b[49m\u001b[43m \u001b[49m\u001b[43mconverted_args\u001b[49m\u001b[43m}\u001b[49m\u001b[43m)\u001b[49m[\u001b[38;5;124m'\u001b[39m\u001b[38;5;124mvalue\u001b[39m\u001b[38;5;124m'\u001b[39m]\n",
      "File \u001b[1;32m~\\anaconda3\\lib\\site-packages\\selenium\\webdriver\\remote\\webdriver.py:434\u001b[0m, in \u001b[0;36mWebDriver.execute\u001b[1;34m(self, driver_command, params)\u001b[0m\n\u001b[0;32m    432\u001b[0m response \u001b[38;5;241m=\u001b[39m \u001b[38;5;28mself\u001b[39m\u001b[38;5;241m.\u001b[39mcommand_executor\u001b[38;5;241m.\u001b[39mexecute(driver_command, params)\n\u001b[0;32m    433\u001b[0m \u001b[38;5;28;01mif\u001b[39;00m response:\n\u001b[1;32m--> 434\u001b[0m     \u001b[38;5;28;43mself\u001b[39;49m\u001b[38;5;241;43m.\u001b[39;49m\u001b[43merror_handler\u001b[49m\u001b[38;5;241;43m.\u001b[39;49m\u001b[43mcheck_response\u001b[49m\u001b[43m(\u001b[49m\u001b[43mresponse\u001b[49m\u001b[43m)\u001b[49m\n\u001b[0;32m    435\u001b[0m     response[\u001b[38;5;124m'\u001b[39m\u001b[38;5;124mvalue\u001b[39m\u001b[38;5;124m'\u001b[39m] \u001b[38;5;241m=\u001b[39m \u001b[38;5;28mself\u001b[39m\u001b[38;5;241m.\u001b[39m_unwrap_value(\n\u001b[0;32m    436\u001b[0m         response\u001b[38;5;241m.\u001b[39mget(\u001b[38;5;124m'\u001b[39m\u001b[38;5;124mvalue\u001b[39m\u001b[38;5;124m'\u001b[39m, \u001b[38;5;28;01mNone\u001b[39;00m))\n\u001b[0;32m    437\u001b[0m     \u001b[38;5;28;01mreturn\u001b[39;00m response\n",
      "File \u001b[1;32m~\\anaconda3\\lib\\site-packages\\selenium\\webdriver\\remote\\errorhandler.py:243\u001b[0m, in \u001b[0;36mErrorHandler.check_response\u001b[1;34m(self, response)\u001b[0m\n\u001b[0;32m    241\u001b[0m         alert_text \u001b[38;5;241m=\u001b[39m value[\u001b[38;5;124m'\u001b[39m\u001b[38;5;124malert\u001b[39m\u001b[38;5;124m'\u001b[39m]\u001b[38;5;241m.\u001b[39mget(\u001b[38;5;124m'\u001b[39m\u001b[38;5;124mtext\u001b[39m\u001b[38;5;124m'\u001b[39m)\n\u001b[0;32m    242\u001b[0m     \u001b[38;5;28;01mraise\u001b[39;00m exception_class(message, screen, stacktrace, alert_text)  \u001b[38;5;66;03m# type: ignore[call-arg]  # mypy is not smart enough here\u001b[39;00m\n\u001b[1;32m--> 243\u001b[0m \u001b[38;5;28;01mraise\u001b[39;00m exception_class(message, screen, stacktrace)\n",
      "\u001b[1;31mStaleElementReferenceException\u001b[0m: Message: stale element reference: element is not attached to the page document\n  (Session info: chrome=108.0.5359.125)\nStacktrace:\nBacktrace:\n\t(No symbol) [0x00F5F243]\n\t(No symbol) [0x00EE7FD1]\n\t(No symbol) [0x00DDD04D]\n\t(No symbol) [0x00DDFD34]\n\t(No symbol) [0x00DDFBE5]\n\t(No symbol) [0x00DE0565]\n\t(No symbol) [0x00E3D47C]\n\t(No symbol) [0x00E2858C]\n\t(No symbol) [0x00E3C9EB]\n\t(No symbol) [0x00E28386]\n\t(No symbol) [0x00E0163C]\n\t(No symbol) [0x00E0269D]\n\tGetHandleVerifier [0x011F9A22+2655074]\n\tGetHandleVerifier [0x011ECA24+2601828]\n\tGetHandleVerifier [0x01008C0A+619850]\n\tGetHandleVerifier [0x01007830+614768]\n\t(No symbol) [0x00EF05FC]\n\t(No symbol) [0x00EF5968]\n\t(No symbol) [0x00EF5A55]\n\t(No symbol) [0x00F0051B]\n\tBaseThreadInitThunk [0x750F00F9+25]\n\tRtlGetAppContainerNamedObjectPath [0x77237BBE+286]\n\tRtlGetAppContainerNamedObjectPath [0x77237B8E+238]\n"
     ]
    }
   ],
   "source": [
    "job_id= []\n",
    "job_title = []\n",
    "company_name = []\n",
    "location = []\n",
    "date = []\n",
    "job_link = []\n",
    "for job in jobs:\n",
    "    job_id0 = job.get_attribute('data-entity-urn')\n",
    "    job_id.append(job_id0)\n",
    "\n",
    "    job_title0 = job.find_element(By.CSS_SELECTOR,'h3').get_attribute('innerText')\n",
    "    job_title.append(job_title0)\n",
    "\n",
    "    company_name0 = job.find_element(By.CSS_SELECTOR,'h4').get_attribute('innerText')\n",
    "    company_name.append(company_name0)\n",
    "\n",
    "    location0 = job.find_element(By.CLASS_NAME,'job-search-card__location').get_attribute('innerText')\n",
    "    location.append(location0)\n",
    "\n",
    "    date0 = job.find_element(By.CSS_SELECTOR,'job-search-card__listdate').get_attribute('datetime')\n",
    "    date.append(date0)\n",
    "\n",
    "    job_link0 = job.find_element(By.CSS_SELECTOR,'a').get_attribute('href')\n",
    "    job_link.append(job_link0)"
   ]
  },
  {
   "cell_type": "code",
   "execution_count": null,
   "id": "38a66241",
   "metadata": {},
   "outputs": [],
   "source": [
    "jd = []\n",
    "seniority = []\n",
    "emp_type = []\n",
    "job_func = []\n",
    "industries = []\n",
    "for item in range(len(jobs)):\n",
    "    job_func0=[]\n",
    "    industries0=[]\n",
    "    # clicking job to view job details\n",
    "    try:\n",
    "        job_click_path = f'/html/body/div[1]/div/main/section[2]/ul/li[{item+1}]/a/div[1]/img'\n",
    "        job_click = job.find_element(By.XPATH,job_click_path).click()\n",
    "    except:\n",
    "        job_click_path = f'/html/body/div[1]/div/main/section[2]/ul/li[{item+1}]/div/a'\n",
    "    \n",
    "    print(job_click_path)\n",
    "    job_click = job.find_element(By.XPATH,job_click_path).click()\n",
    "    time.sleep(3)\n",
    "    try:\n",
    "        jd_path = '/html/body/div[1]/div/section/div[2]/div/section[1]/div/div/section'\n",
    "        jd0 = job.find_element(By.XPATH,jd_path).get_attribute('innerText')\n",
    "    except:\n",
    "        jd_path = '/html/body/div[1]/div/section/div[2]/div/section[2]/div/div/section/div'\n",
    "    \n",
    "    jd0 = job.find_element(By.XPATH,jd_path).get_attribute('innerText')\n",
    "    is_benefit = True\n",
    "    try:\n",
    "        assert 'Base pay range' in jd0\n",
    "    except:\n",
    "        is_benefit = False\n",
    "        \n",
    "    if is_benefit==True :\n",
    "        jd_path = '/html/body/div[1]/div/section/div[2]/div/section[2]/div/div/section/div'\n",
    "        jd0 = job.find_element(By.XPATH,jd_path).get_attribute('innerText')\n",
    "        jd.append(jd0)\n",
    "#         print(jd_path)\n",
    "#         print(\"appended\")\n",
    "        jd_path2 = '/html/body/div[1]/div/section/div[2]/div/section[2]/div'\n",
    "    else:\n",
    "#         print(jd_path)\n",
    "        jd.append(jd0)\n",
    "#         print(\"appended\")\n",
    "        jd_path2 = '/html/body/div[1]/div/section/div[2]/div/section[1]/div'\n",
    "\n",
    "    try:\n",
    "        seniority_path = jd_path2 + '/ul/li[1]/span'\n",
    "        seniority_class_name = 'description__job-criteria-text description__job-criteria-text--criteria'\n",
    "        #seniority0 = job.find_element(By.XPATH,seniority_path).get_attribute('innerText')\n",
    "        seniority0 = job.find_element(By.CLASS_NAME,seniority_class_name).get_attribute('innerText')\n",
    "        seniority.append(seniority0)\n",
    "    except:\n",
    "        seniority.append('') #handling if seniority is not available\n",
    "    \n",
    "    try:\n",
    "        emp_type_path = jd_path2 + '/ul/li[2]/span'\n",
    "        emp_type_class_name = ''\n",
    "        #emp_type0 = job.find_element(By.XPATH,emp_type_path).get_attribute('innerText')\n",
    "        emp_type0 = job.find_element(By.CLASS_NAME,emp_type_class_name).get_attribute('innerText')\n",
    "        emp_type.append(emp_type0)\n",
    "    except:\n",
    "        emp_type.append('') #handling if employment type is not available\n",
    "    \n",
    "    try:\n",
    "        job_func_path = jd_path2 + '/ul/li[3]/span'\n",
    "        job_func_class_name = ''\n",
    "        #job_func0 = job.find_element(By.XPATH,job_func_path).get_attribute('innerText')\n",
    "        job_func0 = job.find_element(By.CLASS_NAME,job_func_class_name).get_attribute('innerText')\n",
    "        job_func.append(job_func0)\n",
    "    except:\n",
    "        job_func.append('') #handling if job function is not available\n",
    "    \n",
    "    try:\n",
    "        industries_path = jd_path2 + '/ul/li[4]/span'\n",
    "        industries_class_name = ''\n",
    "        #industries0 = job.find_element(By.XPATH,industries_path).get_attribute('innerText')\n",
    "        emp_type0 = job.find_element(By.CLASS_NAME,industries_class_name).get_attribute('innerText')\n",
    "        industries.append(industries0)\n",
    "    except:\n",
    "        industries.append('')\n"
   ]
  },
  {
   "cell_type": "code",
   "execution_count": null,
   "id": "1e09de48",
   "metadata": {},
   "outputs": [],
   "source": [
    "job_data = pd.DataFrame({'ID': job_id,\n",
    "                        'Date': date,\n",
    "                        'Company': company_name,\n",
    "                        'Title': job_title,\n",
    "                        'Location': location,\n",
    "                        'Description' : jd,\n",
    "                        'Level': seniority,\n",
    "                        'Type': emp_type,\n",
    "                        'Function': job_func,\n",
    "                        'Industry': industries\n",
    "                        })\n"
   ]
  },
  {
   "cell_type": "code",
   "execution_count": null,
   "id": "e061621c",
   "metadata": {},
   "outputs": [],
   "source": [
    "job_data.tail(10)"
   ]
  },
  {
   "cell_type": "code",
   "execution_count": null,
   "id": "d5699248",
   "metadata": {},
   "outputs": [],
   "source": [
    "#change output file path to your desired path. Don't forget to put the filename and filetype also\n",
    "output_file_path = 'C:/Users/Miranti/Documents/_WORK/Portofolio/linkedinwebscraping/DataScience.xlsx'\n",
    "job_data.to_excel(output_file_path, index = False)"
   ]
  }
 ],
 "metadata": {
  "kernelspec": {
   "display_name": "Python 3 (ipykernel)",
   "language": "python",
   "name": "python3"
  },
  "language_info": {
   "codemirror_mode": {
    "name": "ipython",
    "version": 3
   },
   "file_extension": ".py",
   "mimetype": "text/x-python",
   "name": "python",
   "nbconvert_exporter": "python",
   "pygments_lexer": "ipython3",
   "version": "3.9.12"
  },
  "varInspector": {
   "cols": {
    "lenName": 16,
    "lenType": 16,
    "lenVar": 40
   },
   "kernels_config": {
    "python": {
     "delete_cmd_postfix": "",
     "delete_cmd_prefix": "del ",
     "library": "var_list.py",
     "varRefreshCmd": "print(var_dic_list())"
    },
    "r": {
     "delete_cmd_postfix": ") ",
     "delete_cmd_prefix": "rm(",
     "library": "var_list.r",
     "varRefreshCmd": "cat(var_dic_list()) "
    }
   },
   "types_to_exclude": [
    "module",
    "function",
    "builtin_function_or_method",
    "instance",
    "_Feature"
   ],
   "window_display": false
  }
 },
 "nbformat": 4,
 "nbformat_minor": 5
}
